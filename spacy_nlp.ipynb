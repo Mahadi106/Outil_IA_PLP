{
  "nbformat": 4,
  "nbformat_minor": 0,
  "metadata": {
    "colab": {
      "provenance": []
    },
    "kernelspec": {
      "name": "python3",
      "display_name": "Python 3"
    },
    "language_info": {
      "name": "python"
    }
  },
  "cells": [
    {
      "cell_type": "code",
      "execution_count": null,
      "metadata": {
        "id": "usvOAN_6WoOs"
      },
      "outputs": [],
      "source": [
        "# Installation de spaCy\n",
        "!pip install -q spacy\n",
        "!python -m spacy download en_core_web_sm\n",
        "\n",
        "# Importation\n",
        "import spacy\n",
        "\n",
        "# Chargement du modèle anglais\n",
        "nlp = spacy.load(\"en_core_web_sm\")\n",
        "\n",
        "# Exemple de texte\n",
        "text = \"Apple is looking at buying U.K. startup for $1 billion. Elon Musk met with Tim Cook in California.\"\n",
        "\n",
        "# Traitement du texte\n",
        "doc = nlp(text)\n",
        "\n",
        "# Affichage des entités nommées\n",
        "for ent in doc.ents:\n",
        "    print(ent.text, ent.label_)"
      ]
    },
    {
      "cell_type": "markdown",
      "source": [
        "# Traitement de texte avec spaCy\n",
        "Ce notebook utilise spaCy pour détecter les entités nommées dans un texte (personnes, organisations, lieux, montants, etc.).  \n",
        "Le modèle utilisé est `en_core_web_sm`, adapté aux tâches de base en anglais."
      ],
      "metadata": {
        "id": "MhQmF6TpWyF9"
      }
    }
  ]
}